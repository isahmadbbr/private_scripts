{
 "cells": [
  {
   "cell_type": "code",
   "execution_count": 6,
   "metadata": {},
   "outputs": [
    {
     "name": "stdout",
     "output_type": "stream",
     "text": [
      "                                             article  \\\n",
      "0  LONDON, England (Reuters) -- Harry Potter star...   \n",
      "1  Editor's note: In our Behind the Scenes series...   \n",
      "2  MINNEAPOLIS, Minnesota (CNN) -- Drivers who we...   \n",
      "3  WASHINGTON (CNN) -- Doctors removed five small...   \n",
      "4  (CNN)  -- The National Football League has ind...   \n",
      "\n",
      "                                          highlights  \\\n",
      "0  Harry Potter star Daniel Radcliffe gets £20M f...   \n",
      "1  Mentally ill inmates in Miami are housed on th...   \n",
      "2  NEW: \"I thought I was going to die,\" driver sa...   \n",
      "3  Five small polyps found during procedure; \"non...   \n",
      "4  NEW: NFL chief, Atlanta Falcons owner critical...   \n",
      "\n",
      "                                         id  \n",
      "0  42c027e4ff9730fbb3de84c1af0d2c506e41c3e4  \n",
      "1  ee8871b15c50d0db17b0179a6d2beab35065f1e9  \n",
      "2  06352019a19ae31e527f37f7571c6dd7f0c5da37  \n",
      "3  24521a2abb2e1f5e34e6824e0f9e56904a2b0e88  \n",
      "4  7fe70cc8b12fab2d0a258fababf7d9c6b5e1262a  \n"
     ]
    }
   ],
   "source": [
    "#from transformers import AutoModelForSeq2SeqLM, AutoTokenizer, Seq2SeqTrainingArguments, Seq2SeqTrainer\n",
    "from datasets import load_dataset\n",
    "\n",
    "# Load your dataset\n",
    "dataset = load_dataset('cnn_dailymail', '3.0.0')\n",
    "\n",
    "device = \"mps\" if torch.backends.mps.is_available () else \"cpu\"\n",
    "model.to(device)\n",
    "\n",
    "# Convert the dataset to a Pandas DataFrame\n",
    "df = dataset['train'].to_pandas()\n",
    "\n",
    "print(df.head())"
   ]
  },
  {
   "cell_type": "code",
   "execution_count": 1,
   "metadata": {},
   "outputs": [
    {
     "name": "stderr",
     "output_type": "stream",
     "text": [
      "/Users/isab7070/anaconda3/envs/mynlp/lib/python3.11/site-packages/tqdm/auto.py:21: TqdmWarning: IProgress not found. Please update jupyter and ipywidgets. See https://ipywidgets.readthedocs.io/en/stable/user_install.html\n",
      "  from .autonotebook import tqdm as notebook_tqdm\n",
      "  0%|          | 0/143557 [00:00<?, ?it/s]You're using a BartTokenizerFast tokenizer. Please note that with a fast tokenizer, using the `__call__` method is faster than using a method to encode the text followed by a call to the `pad` method to get a padded encoding.\n",
      "  0%|          | 9/143557 [22:47<7830:06:48, 196.37s/it]"
     ]
    }
   ],
   "source": [
    "from transformers import AutoModelForSeq2SeqLM\n",
    "from transformers import AutoTokenizer\n",
    "from transformers import Seq2SeqTrainingArguments \n",
    "from transformers import Seq2SeqTrainer\n",
    "from datasets import load_dataset\n",
    "import torch\n",
    "\n",
    "# Load your dataset\n",
    "dataset = load_dataset('cnn_dailymail', '3.0.0')\n",
    "\n",
    "# Load a pre-trained model and tokenizer suitable for sequence-to-sequence tasks\n",
    "model_name = \"facebook/bart-large-cnn\"\n",
    "tokenizer = AutoTokenizer.from_pretrained(model_name)\n",
    "model = AutoModelForSeq2SeqLM.from_pretrained(model_name)\n",
    "\n",
    "device = \"mps\" if torch.backends.mps.is_available () else \"cpu\"\n",
    "model.to(device)\n",
    "\n",
    "# Define a function to preprocess your data\n",
    "def preprocess_data(example):\n",
    "    input_text = example[\"article\"]\n",
    "    target_text = example[\"highlights\"]\n",
    "    \n",
    "    # Tokenize the input and target text using the __call__ method\n",
    "    input_tokens = tokenizer(input_text, target_text, max_length=512, truncation=True, padding='max_length', return_tensors=\"pt\", add_special_tokens=True)\n",
    "    \n",
    "    return {\n",
    "        \"input_ids\": input_tokens.input_ids[0],\n",
    "        \"attention_mask\": input_tokens.attention_mask[0],\n",
    "        \"labels\": input_tokens.input_ids[0],  # Use input_ids for labels (same as input)\n",
    "    }\n",
    "\n",
    "\n",
    "# Apply preprocessing to your dataset\n",
    "tokenized_dataset = dataset.map(preprocess_data, batched=False)\n",
    "\n",
    "# Define the training arguments\n",
    "training_args = Seq2SeqTrainingArguments(\n",
    "    per_device_train_batch_size=2,\n",
    "    per_device_eval_batch_size=2,\n",
    "    output_dir=\"./bert-summarizer\",\n",
    "    save_total_limit=1,\n",
    "    evaluation_strategy=\"steps\",\n",
    "    eval_steps=1000,\n",
    "    num_train_epochs=1,\n",
    "    save_steps=1000,\n",
    "    logging_steps=1000,\n",
    "    push_to_hub=False,\n",
    "    report_to=\"tensorboard\",\n",
    ")\n",
    "\n",
    "# Initialize the trainer\n",
    "trainer = Seq2SeqTrainer(\n",
    "    model=model,\n",
    "    args=training_args,\n",
    "    train_dataset=tokenized_dataset[\"train\"],\n",
    "    eval_dataset=tokenized_dataset[\"validation\"],\n",
    "    tokenizer=tokenizer,\n",
    ")\n",
    "\n",
    "# Fine-tune the model\n",
    "trainer.train()\n",
    "\n",
    "# Save the fine-tuned model\n",
    "trainer.save_model(\"./bert-summarizer-fine-tuned\")\n",
    "\n",
    "# You can now use this fine-tuned model for text summarization tasks"
   ]
  }
 ],
 "metadata": {
  "kernelspec": {
   "display_name": "mynlp",
   "language": "python",
   "name": "python3"
  },
  "language_info": {
   "codemirror_mode": {
    "name": "ipython",
    "version": 3
   },
   "file_extension": ".py",
   "mimetype": "text/x-python",
   "name": "python",
   "nbconvert_exporter": "python",
   "pygments_lexer": "ipython3",
   "version": "3.11.5"
  },
  "orig_nbformat": 4
 },
 "nbformat": 4,
 "nbformat_minor": 2
}
